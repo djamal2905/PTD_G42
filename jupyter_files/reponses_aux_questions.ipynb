{
 "cells": [
  {
   "cell_type": "markdown",
   "id": "2fc00aac",
   "metadata": {},
   "source": [
    "### Présentation des résultats\n",
    "\n",
    "Dans le cadre de notre analyse exploratoire des données liées au basketball, nous disposions de plusieurs fichiers apportant des informations complémentaires : les matchs, les joueurs, leurs performances à la Draft, etc.\n",
    "\n",
    "Dans cette section, nous présentons les éléments les plus pertinents que nous avons pu extraire de ces jeux de données. Les résultats exposés répondent à des questions spécifiques que nous avons choisies d’approfondir. Parmis ces intérogation, deux nous étaient imposé dans le cadre ce projet."
   ]
  },
  {
   "cell_type": "markdown",
   "id": "a2b8bd88",
   "metadata": {},
   "source": [
    "#### Chargement des package nécessaire au traitement"
   ]
  },
  {
   "cell_type": "code",
   "execution_count": 1,
   "id": "e4c8fc26",
   "metadata": {},
   "outputs": [],
   "source": [
    "from application.shared import data  # pour la récupération des données (données harmonisées)\n",
    "import pandas as pd  # Pour la manipulation des tables\n",
    "from answers_class import Reponse  # Notre classe méthode avec les méthodes de classes qui apporte des réponses au questions\n",
    "from utils.export_files import ExportFiles # pour exporter les données\n",
    "import matplotlib.pyplot as plt\n",
    "import copy\n",
    "from utils.chargement_data import replace_old_team_name\n",
    "import numpy as np\n",
    "import matplotlib"
   ]
  },
  {
   "cell_type": "code",
   "execution_count": 2,
   "id": "36f221ac",
   "metadata": {},
   "outputs": [],
   "source": [
    "# instanciation de la classe\n",
    "exportfiles = ExportFiles()\n",
    "\n",
    "# initialisation des repertoires d'exportation\n",
    "tables_dir = '../Exportations/tables'\n",
    "figures_dir = '../Exportations/images'"
   ]
  },
  {
   "cell_type": "markdown",
   "id": "ecc6b794",
   "metadata": {},
   "source": [
    "#### Création de l'instance de classe\n",
    "\n",
    "Ce sont les méthodes de classe de la classe `Reponse` qui va nous permettre d'aporter une réponse à chacune de nos intérogations. Ci-desssous on retrouve quelques informations sur nos tables. "
   ]
  },
  {
   "cell_type": "code",
   "execution_count": 3,
   "id": "aeae73b9",
   "metadata": {},
   "outputs": [],
   "source": [
    "reponses = Reponse(data=data)"
   ]
  },
  {
   "cell_type": "markdown",
   "id": "fd1df2fa",
   "metadata": {},
   "source": [
    "> Quelques statistiques descriptives"
   ]
  },
  {
   "cell_type": "code",
   "execution_count": 4,
   "id": "86c41d58",
   "metadata": {},
   "outputs": [
    {
     "name": "stdout",
     "output_type": "stream",
     "text": [
      "['common_player_info', 'draft_combine_stats', 'draft_history', 'game', 'game_info', 'game_summary', 'inactive_players', 'line_score', 'officials', 'other_stats', 'player', 'team', 'team_details', 'team_history', 'team_info_common']\n",
      "\n",
      "\n"
     ]
    },
    {
     "data": {
      "text/html": [
       "<div>\n",
       "<style scoped>\n",
       "    .dataframe tbody tr th:only-of-type {\n",
       "        vertical-align: middle;\n",
       "    }\n",
       "\n",
       "    .dataframe tbody tr th {\n",
       "        vertical-align: top;\n",
       "    }\n",
       "\n",
       "    .dataframe thead th {\n",
       "        text-align: right;\n",
       "    }\n",
       "</style>\n",
       "<table border=\"1\" class=\"dataframe\">\n",
       "  <thead>\n",
       "    <tr style=\"text-align: right;\">\n",
       "      <th></th>\n",
       "      <th>Variable</th>\n",
       "      <th>Modalité</th>\n",
       "      <th>Statistique</th>\n",
       "    </tr>\n",
       "  </thead>\n",
       "  <tbody>\n",
       "    <tr>\n",
       "      <th>0</th>\n",
       "      <td>Statut joueur</td>\n",
       "      <td>Active</td>\n",
       "      <td>431</td>\n",
       "    </tr>\n",
       "    <tr>\n",
       "      <th>1</th>\n",
       "      <td>Statut joueur</td>\n",
       "      <td>Inactive</td>\n",
       "      <td>3740</td>\n",
       "    </tr>\n",
       "    <tr>\n",
       "      <th>2</th>\n",
       "      <td>Type de draft</td>\n",
       "      <td>Draft</td>\n",
       "      <td>7971</td>\n",
       "    </tr>\n",
       "    <tr>\n",
       "      <th>3</th>\n",
       "      <td>Type de draft</td>\n",
       "      <td>Territorial</td>\n",
       "      <td>19</td>\n",
       "    </tr>\n",
       "    <tr>\n",
       "      <th>4</th>\n",
       "      <td>Effectif</td>\n",
       "      <td>Equipe</td>\n",
       "      <td>25</td>\n",
       "    </tr>\n",
       "    <tr>\n",
       "      <th>5</th>\n",
       "      <td>Effectif</td>\n",
       "      <td>Joueur</td>\n",
       "      <td>4171</td>\n",
       "    </tr>\n",
       "    <tr>\n",
       "      <th>6</th>\n",
       "      <td>Saison</td>\n",
       "      <td>Ancienne</td>\n",
       "      <td>1946</td>\n",
       "    </tr>\n",
       "    <tr>\n",
       "      <th>7</th>\n",
       "      <td>Saison</td>\n",
       "      <td>Recente</td>\n",
       "      <td>2022</td>\n",
       "    </tr>\n",
       "  </tbody>\n",
       "</table>\n",
       "</div>"
      ],
      "text/plain": [
       "        Variable     Modalité  Statistique\n",
       "0  Statut joueur       Active          431\n",
       "1  Statut joueur     Inactive         3740\n",
       "2  Type de draft        Draft         7971\n",
       "3  Type de draft  Territorial           19\n",
       "4       Effectif       Equipe           25\n",
       "5       Effectif       Joueur         4171\n",
       "6         Saison     Ancienne         1946\n",
       "7         Saison      Recente         2022"
      ]
     },
     "execution_count": 4,
     "metadata": {},
     "output_type": "execute_result"
    }
   ],
   "source": [
    "# L'ensemble des tables sur lesquelles porte nos analyses\n",
    "print(list(reponses.data.keys()))\n",
    "print(\"\\n\")\n",
    "\n",
    "# Extrait de la table common_player_info\n",
    "statut = data[\"common_player_info\"].groupby(\"rosterstatus\")[\"person_id\"].count()\n",
    "type_draf = data[\"draft_history\"].groupby(\"draft_type\")[\"draft_type\"].count()\n",
    "nb_equipe = data[\"team_details\"][\"team_id\"].count()\n",
    "nb_joueur = data[\"common_player_info\"][\"person_id\"].count()\n",
    "\n",
    "saison_max = data[\"game_summary\"][\"season\"].max()\n",
    "saison_min = data[\"game_summary\"][\"season\"].min()\n",
    "\n",
    "# Création d'une table de synthèse\n",
    "synthese = pd.DataFrame(\n",
    "    {\"Variable\": [\"Statut joueur\"]*2 + [\"Type de draft\"]*2 + [\"Effectif\"]*2 + [\"Saison\"]*2,\n",
    "     \"Modalité\": list(statut.index) + list(type_draf.index) + [\"Equipe\", \"Joueur\"] + [\"Ancienne\", \"Recente\"],\n",
    "     \"Statistique\": list(statut.values) + list(type_draf.values) + [nb_equipe, nb_joueur] + [saison_min, saison_max]}\n",
    ")\n",
    "synthese\n"
   ]
  },
  {
   "cell_type": "markdown",
   "id": "0d00e487",
   "metadata": {},
   "source": [
    "Parmi l’ensemble des fichiers disponibles, l’un d’eux recense tous les matchs disputés durant la période étudiée, de la saison régulière aux playoffs. Ce jeu de données couvre les rencontres qui ont eu lieu **de la saison 1946-1947 à la saison 2022-2023**."
   ]
  },
  {
   "cell_type": "code",
   "execution_count": 5,
   "id": "e9059a59",
   "metadata": {},
   "outputs": [
    {
     "data": {
      "text/plain": [
       "True"
      ]
     },
     "execution_count": 5,
     "metadata": {},
     "output_type": "execute_result"
    }
   ],
   "source": [
    "# exporter synthèses ?\n",
    "exportfiles.export_to_csv_format(\n",
    "    synthese,\n",
    "    f'{tables_dir}/RQ_synthèse.csv'\n",
    ")"
   ]
  },
  {
   "cell_type": "markdown",
   "id": "7c3537cf",
   "metadata": {},
   "source": [
    "#### I. Questions obligatoires"
   ]
  },
  {
   "cell_type": "markdown",
   "id": "174bbd46",
   "metadata": {},
   "source": [
    "##### 1. Les équipes NBA qui ont remporté au moins 3 fois le titre\n",
    "\n",
    "Pour répondre à cette question, nous avions créer une méthode de classe qui nous renvoie les équipes ayant remporté au moins `N` fois le titre NBA. Ainsi, cela offre la liberté à l'utilisateur de définir sa propre borne inférieure. Cette méthode offre également la possibilité de définir une période."
   ]
  },
  {
   "cell_type": "code",
   "execution_count": 6,
   "id": "8b12837a",
   "metadata": {},
   "outputs": [
    {
     "data": {
      "text/html": [
       "<div>\n",
       "<style scoped>\n",
       "    .dataframe tbody tr th:only-of-type {\n",
       "        vertical-align: middle;\n",
       "    }\n",
       "\n",
       "    .dataframe tbody tr th {\n",
       "        vertical-align: top;\n",
       "    }\n",
       "\n",
       "    .dataframe thead th {\n",
       "        text-align: right;\n",
       "    }\n",
       "</style>\n",
       "<table border=\"1\" class=\"dataframe\">\n",
       "  <thead>\n",
       "    <tr style=\"text-align: right;\">\n",
       "      <th></th>\n",
       "      <th>Equipe</th>\n",
       "      <th>Nombre de titre NBA</th>\n",
       "    </tr>\n",
       "  </thead>\n",
       "  <tbody>\n",
       "    <tr>\n",
       "      <th>0</th>\n",
       "      <td>Boston Celtics</td>\n",
       "      <td>17</td>\n",
       "    </tr>\n",
       "    <tr>\n",
       "      <th>1</th>\n",
       "      <td>Los Angeles Lakers</td>\n",
       "      <td>17</td>\n",
       "    </tr>\n",
       "    <tr>\n",
       "      <th>2</th>\n",
       "      <td>Golden State Warriors</td>\n",
       "      <td>7</td>\n",
       "    </tr>\n",
       "    <tr>\n",
       "      <th>3</th>\n",
       "      <td>Chicago Bulls</td>\n",
       "      <td>6</td>\n",
       "    </tr>\n",
       "    <tr>\n",
       "      <th>4</th>\n",
       "      <td>Philadelphia 76ers</td>\n",
       "      <td>6</td>\n",
       "    </tr>\n",
       "    <tr>\n",
       "      <th>5</th>\n",
       "      <td>San Antonio Spurs</td>\n",
       "      <td>5</td>\n",
       "    </tr>\n",
       "    <tr>\n",
       "      <th>6</th>\n",
       "      <td>Miami Heat</td>\n",
       "      <td>3</td>\n",
       "    </tr>\n",
       "    <tr>\n",
       "      <th>7</th>\n",
       "      <td>Detroit Pistons</td>\n",
       "      <td>3</td>\n",
       "    </tr>\n",
       "    <tr>\n",
       "      <th>8</th>\n",
       "      <td>Houston Rockets</td>\n",
       "      <td>3</td>\n",
       "    </tr>\n",
       "  </tbody>\n",
       "</table>\n",
       "</div>"
      ],
      "text/plain": [
       "                  Equipe  Nombre de titre NBA\n",
       "0         Boston Celtics                   17\n",
       "1     Los Angeles Lakers                   17\n",
       "2  Golden State Warriors                    7\n",
       "3          Chicago Bulls                    6\n",
       "4     Philadelphia 76ers                    6\n",
       "5      San Antonio Spurs                    5\n",
       "6             Miami Heat                    3\n",
       "7        Detroit Pistons                    3\n",
       "8        Houston Rockets                    3"
      ]
     },
     "execution_count": 6,
     "metadata": {},
     "output_type": "execute_result"
    }
   ],
   "source": [
    "resultat = reponses.equipe_remporte_au_moins_N_fois_le_titre(nb_victoire_min=3)\n",
    "resultat"
   ]
  },
  {
   "cell_type": "code",
   "execution_count": 7,
   "id": "a31ee598",
   "metadata": {},
   "outputs": [
    {
     "data": {
      "text/plain": [
       "True"
      ]
     },
     "execution_count": 7,
     "metadata": {},
     "output_type": "execute_result"
    }
   ],
   "source": [
    "# Exportez resultats ?\n",
    "exportfiles.export_to_csv_format(\n",
    "    resultat,\n",
    "    f'{tables_dir}/RQ_results_q1.csv'\n",
    ")"
   ]
  },
  {
   "cell_type": "markdown",
   "id": "d10bb895",
   "metadata": {},
   "source": [
    "##### 2. Classement des conférences Ouest et Est à la fin de la saison régulière 2022-2023\n",
    "\n",
    "Pour connaître les premières équipes du classement dans chaque conférence, on s'intéresse d'abord à leur nombre de victoires sur la période considérée. En cas d'égalité entre deux équipes, elles sont départagées selon leur nombre de points.\n",
    "De même, nous avons implémenté une méthode de classe qui nous permet de fournir cette information. ce traitement peut être ajusté selon la saison (`season`). De plus, il est toutefois possible d'avoir le classement des équipes de chaque conférence à un instant `t` donné de la saison défini par le paramètre `end` de la méthode de la classe. "
   ]
  },
  {
   "cell_type": "code",
   "execution_count": 8,
   "id": "dcf38710",
   "metadata": {},
   "outputs": [
    {
     "name": "stdout",
     "output_type": "stream",
     "text": [
      "                 Équipe  Victoires  Points\n",
      "0       Milwaukee Bucks         58  9589.0\n",
      "1        Boston Celtics         57  9671.0\n",
      "2    Philadelphia 76ers         54  9448.0\n",
      "3   Cleveland Cavaliers         51  9205.0\n",
      "4       New York Knicks         47  9514.0\n",
      "5         Brooklyn Nets         45  9295.0\n",
      "6            Miami Heat         44  8977.0\n",
      "7         Atlanta Hawks         41  9711.0\n",
      "8       Toronto Raptors         41  9254.0\n",
      "9         Chicago Bulls         40  9276.0\n",
      "10       Indiana Pacers         35  9535.0\n",
      "11   Washington Wizards         35  9279.0\n",
      "12        Orlando Magic         34  9136.0\n",
      "13    Charlotte Hornets         27  9098.0\n",
      "14      Detroit Pistons         17  9045.0\n",
      "                    Équipe  Victoires  Points\n",
      "0           Denver Nuggets         53  9495.0\n",
      "1        Memphis Grizzlies         51  9587.0\n",
      "2         Sacramento Kings         48  9898.0\n",
      "3             Phoenix Suns         45  9319.0\n",
      "4    Golden State Warriors         44  9753.0\n",
      "5              LA Clippers         44  9314.0\n",
      "6       Los Angeles Lakers         43  9608.0\n",
      "7   Minnesota Timberwolves         42  9494.0\n",
      "8     New Orleans Pelicans         42  9378.0\n",
      "9    Oklahoma City Thunder         40  9633.0\n",
      "10        Dallas Mavericks         38  9366.0\n",
      "11               Utah Jazz         37  9600.0\n",
      "12  Portland Trail Blazers         33  9299.0\n",
      "13       San Antonio Spurs         22  9269.0\n",
      "14         Houston Rockets         22  9081.0\n"
     ]
    }
   ],
   "source": [
    "resultat_conf = reponses.classement_conferences(season='2022-2023')\n",
    "print(resultat_conf['Conférence Est']) ; print(resultat_conf['Conférence Ouest'])"
   ]
  },
  {
   "cell_type": "code",
   "execution_count": 9,
   "id": "ddec3959",
   "metadata": {},
   "outputs": [
    {
     "data": {
      "text/plain": [
       "True"
      ]
     },
     "execution_count": 9,
     "metadata": {},
     "output_type": "execute_result"
    }
   ],
   "source": [
    "# Exportation\n",
    "exportfiles.export_to_csv_format(\n",
    "    resultat_conf[\"Conférence Est\"],\n",
    "    f'{tables_dir}/RQ_results_q2_conf_Est.csv'\n",
    ")\n",
    "\n",
    "exportfiles.export_to_csv_format(\n",
    "    resultat_conf[\"Conférence Ouest\"],\n",
    "    f'{tables_dir}/RQ_results_q2_conf_Ouest.csv'\n",
    ")"
   ]
  },
  {
   "cell_type": "markdown",
   "id": "bd5b8ce0",
   "metadata": {},
   "source": [
    "> Classement à la date du `1er janvier 2023`"
   ]
  },
  {
   "cell_type": "code",
   "execution_count": 10,
   "id": "16306a86",
   "metadata": {},
   "outputs": [
    {
     "data": {
      "text/plain": [
       "{'Conférence Est':                  Équipe  Victoires  Points\n",
       " 0        Boston Celtics         26  4389.0\n",
       " 1         Brooklyn Nets         24  4122.0\n",
       " 2   Cleveland Cavaliers         23  4116.0\n",
       " 3       Milwaukee Bucks         23  4048.0\n",
       " 4    Philadelphia 76ers         21  3917.0\n",
       " 5        Indiana Pacers         20  4269.0\n",
       " 6       New York Knicks         19  4235.0\n",
       " 7            Miami Heat         19  4033.0\n",
       " 8    Washington Wizards         17  4260.0\n",
       " 9         Atlanta Hawks         17  4123.0\n",
       " 10        Chicago Bulls         16  4095.0\n",
       " 11      Toronto Raptors         16  4007.0\n",
       " 12        Orlando Magic         13  4061.0\n",
       " 13      Detroit Pistons         10  4357.0\n",
       " 14    Charlotte Hornets         10  4118.0,\n",
       " 'Conférence Ouest':                     Équipe  Victoires  Points\n",
       " 0           Denver Nuggets         24  4197.0\n",
       " 1     New Orleans Pelicans         23  4234.0\n",
       " 2        Memphis Grizzlies         23  4156.0\n",
       " 3              LA Clippers         21  4170.0\n",
       " 4         Dallas Mavericks         21  4167.0\n",
       " 5             Phoenix Suns         20  4257.0\n",
       " 6                Utah Jazz         19  4573.0\n",
       " 7    Golden State Warriors         19  4307.0\n",
       " 8         Sacramento Kings         19  4129.0\n",
       " 9   Portland Trail Blazers         18  3931.0\n",
       " 10  Minnesota Timberwolves         16  4233.0\n",
       " 11      Los Angeles Lakers         15  4175.0\n",
       " 12   Oklahoma City Thunder         15  4147.0\n",
       " 13       San Antonio Spurs         12  4027.0\n",
       " 14         Houston Rockets         10  3939.0}"
      ]
     },
     "execution_count": 10,
     "metadata": {},
     "output_type": "execute_result"
    }
   ],
   "source": [
    "# La date de début de la saison 2022-2023 est\n",
    "resultat = reponses.classement_conferences(season='2022-2023', end='2023-01-01')\n",
    "resultat"
   ]
  },
  {
   "cell_type": "markdown",
   "id": "f6d16275",
   "metadata": {},
   "source": [
    "### II. Autres axes d'analyse"
   ]
  },
  {
   "cell_type": "markdown",
   "id": "6b2db6ad",
   "metadata": {},
   "source": [
    "##### 3. Quelques statistique sur la taille et le poids des joueurs selon leur poste\n",
    "\n",
    "Grâce à cette méthode, nous parvenons à réaliser une analyse descriptive sur la taille et le poids des joueurs. Les donnéesn étant initialement en anglais, nous avions la taille en `inches` et le poids en `livres`. C'est donc suite à leur convertion que nous obtenons les statistisques suivantes. La méthode de classe permet de réaliser 4 statistique : la moyenne (`Mean`), la médiane (`Meadian`), le maximum (`Max`), le minimum (`Min`)."
   ]
  },
  {
   "cell_type": "code",
   "execution_count": 11,
   "id": "727367e6",
   "metadata": {},
   "outputs": [
    {
     "data": {
      "text/html": [
       "<div>\n",
       "<style scoped>\n",
       "    .dataframe tbody tr th:only-of-type {\n",
       "        vertical-align: middle;\n",
       "    }\n",
       "\n",
       "    .dataframe tbody tr th {\n",
       "        vertical-align: top;\n",
       "    }\n",
       "\n",
       "    .dataframe thead th {\n",
       "        text-align: right;\n",
       "    }\n",
       "</style>\n",
       "<table border=\"1\" class=\"dataframe\">\n",
       "  <thead>\n",
       "    <tr style=\"text-align: right;\">\n",
       "      <th></th>\n",
       "      <th>position</th>\n",
       "      <th>Taille cm</th>\n",
       "      <th>Poids Kg</th>\n",
       "    </tr>\n",
       "  </thead>\n",
       "  <tbody>\n",
       "    <tr>\n",
       "      <th>0</th>\n",
       "      <td>Pivot</td>\n",
       "      <td>210.82</td>\n",
       "      <td>108.86</td>\n",
       "    </tr>\n",
       "    <tr>\n",
       "      <th>1</th>\n",
       "      <td>Pivot/Ailier fort</td>\n",
       "      <td>210.82</td>\n",
       "      <td>113.40</td>\n",
       "    </tr>\n",
       "    <tr>\n",
       "      <th>2</th>\n",
       "      <td>Ailier</td>\n",
       "      <td>200.66</td>\n",
       "      <td>98.88</td>\n",
       "    </tr>\n",
       "    <tr>\n",
       "      <th>3</th>\n",
       "      <td>Ailier fort/Pivot</td>\n",
       "      <td>208.28</td>\n",
       "      <td>108.86</td>\n",
       "    </tr>\n",
       "    <tr>\n",
       "      <th>4</th>\n",
       "      <td>Ailier/Meneur</td>\n",
       "      <td>200.66</td>\n",
       "      <td>99.79</td>\n",
       "    </tr>\n",
       "    <tr>\n",
       "      <th>5</th>\n",
       "      <td>Arrière/Meneur</td>\n",
       "      <td>190.50</td>\n",
       "      <td>86.18</td>\n",
       "    </tr>\n",
       "    <tr>\n",
       "      <th>6</th>\n",
       "      <td>Arrière/Ailier</td>\n",
       "      <td>198.12</td>\n",
       "      <td>95.25</td>\n",
       "    </tr>\n",
       "  </tbody>\n",
       "</table>\n",
       "</div>"
      ],
      "text/plain": [
       "            position  Taille cm  Poids Kg\n",
       "0              Pivot     210.82    108.86\n",
       "1  Pivot/Ailier fort     210.82    113.40\n",
       "2             Ailier     200.66     98.88\n",
       "3  Ailier fort/Pivot     208.28    108.86\n",
       "4      Ailier/Meneur     200.66     99.79\n",
       "5     Arrière/Meneur     190.50     86.18\n",
       "6     Arrière/Ailier     198.12     95.25"
      ]
     },
     "execution_count": 11,
     "metadata": {},
     "output_type": "execute_result"
    }
   ],
   "source": [
    "stat_players = reponses.stat_sur_taille_et_poids_par_poste(statistique=\"Median\")\n",
    "stat_players"
   ]
  },
  {
   "cell_type": "markdown",
   "id": "4fe64fb3",
   "metadata": {},
   "source": [
    "Les résultats confirment ces tendances : les joueurs occupant les postes de meneur/arrière et arrière/ailier ont des tailles et poids médians plus faibles, tandis que les pivots se distinguent par des mensurations nettement plus élevées."
   ]
  },
  {
   "cell_type": "code",
   "execution_count": 12,
   "id": "fc6f1a0c",
   "metadata": {},
   "outputs": [
    {
     "data": {
      "text/plain": [
       "True"
      ]
     },
     "execution_count": 12,
     "metadata": {},
     "output_type": "execute_result"
    }
   ],
   "source": [
    "# Exportation de la table\n",
    "exportfiles.export_to_csv_format(\n",
    "    stat_players,\n",
    "    f'{tables_dir}/RQ_stat_players.csv'\n",
    ")"
   ]
  },
  {
   "cell_type": "markdown",
   "id": "ad5dd458",
   "metadata": {},
   "source": [
    "> **Réponses à la question précédente à l'aide de python base - Ousseynou SIMAL**"
   ]
  },
  {
   "cell_type": "markdown",
   "id": "312f7915",
   "metadata": {},
   "source": [
    "> **a. Préparation des données**"
   ]
  },
  {
   "cell_type": "code",
   "execution_count": 13,
   "id": "008c6ffe",
   "metadata": {},
   "outputs": [],
   "source": [
    "# Récupération des données d'intérêt\n",
    "df = copy.deepcopy(data[\"common_player_info\"])"
   ]
  },
  {
   "cell_type": "markdown",
   "id": "d55b3abe",
   "metadata": {},
   "source": [
    "> **b. Création d'une fonction pour permettre plusieurs opérations sur la taille et le poids**"
   ]
  },
  {
   "cell_type": "code",
   "execution_count": 14,
   "id": "8de9e115",
   "metadata": {},
   "outputs": [],
   "source": [
    "def statistic_height_weight(data: pd.DataFrame, stat='Median'):\n",
    "    \"\"\"\n",
    "        Statistique sur la taille et poids\n",
    "\n",
    "        stat : str\n",
    "            La statistique souhaitée pour la taille et le poids. Les valeurs\n",
    "            possibles sont : Max, Min, Median, Mean\n",
    "        data : pd.DataFrame\n",
    "            table d'intérêt avec les informations sur la taille, le poids et la\n",
    "            position\n",
    "    \"\"\"\n",
    "    import statistics # Pour le calcule de la mediane et de la moyenne\n",
    "    # Import pour la conversion\n",
    "    from utils import inch_to_cm\n",
    "    import numpy as np\n",
    "\n",
    "    if not isinstance(data, pd.DataFrame):\n",
    "        raise ValueError(\"L'objet data doit être un pandas.DataFrame\")\n",
    "\n",
    "    if any(not col in data.columns\n",
    "           for col in [\"height\", \"weight\", \"position\"]):\n",
    "        raise ValueError(\"Une des trois colonnes 'height', 'weight', 'position' \"\n",
    "                         \"n'existe pas dans la table\")\n",
    "\n",
    "    if not isinstance(stat, str):\n",
    "        raise ValueError(\"L'objet stat doit être de type str\")\n",
    "\n",
    "    if stat.lower() not in [\"mean\", \"median\", 'min', \"max\"]:\n",
    "        raise ValueError(\"L'objet stat doit être une des valeurs\"\n",
    "                         \" suivantes : mean, median, min, max\")\n",
    "\n",
    "\n",
    "    # ----------------- Traitement des données ------------------\n",
    "    # J'ai décidé de me ramener à un format des données que l'on aurait obtenu si on\n",
    "    # importait les données grâce a la librairie < csv > soit une liste de liste\n",
    "\n",
    "    valeurs = data.values.tolist()\n",
    "    colonnes = data.columns.tolist()\n",
    "    player_info = [colonnes] + valeurs\n",
    "\n",
    "\n",
    "    # Récupération des données d'intérêt : taille, poids, le poste\n",
    "    indice = []\n",
    "    for v in [\"height\", \"weight\", \"position\"]:\n",
    "        for i in range(len(player_info[0])):\n",
    "            if player_info[0][i] == v:\n",
    "                indice.append(i)\n",
    "    indice\n",
    "\n",
    "    # Création des nouvelles variables en cm et en kg\n",
    "    player_info_new = []\n",
    "    poste = []\n",
    "    for i in range(1, len(player_info)):\n",
    "\n",
    "        val = [round(inch_to_cm(player_info[i][indice[0]]), 2), # conversion en cm\n",
    "            round(player_info[i][indice[1]]*0.453592370, 2), # conversion en kg\n",
    "            player_info[i][indice[2]]] # poste\n",
    "\n",
    "        if (val[2] not in poste and\n",
    "            val[2] is not np.nan):\n",
    "            poste.append(player_info[i][indice[2]])\n",
    "        player_info_new.append(val)\n",
    "\n",
    "    player_info_new\n",
    "    poste\n",
    "\n",
    "    # Créons un data avec comme clé le poste et une première liste pour la taille\n",
    "    # et une seconde pour le poids\n",
    "    dictionnaire = {}\n",
    "    for i in range(len(poste)):\n",
    "        dictionnaire[poste[i]] = [[\"Taille\",[]], [\"Poids\",[]]]\n",
    "    dictionnaire\n",
    "\n",
    "    for line in player_info_new:\n",
    "        for cle in list(dictionnaire.keys()):\n",
    "            if line[2] == cle:\n",
    "                if not np.isnan(line[0]):\n",
    "                    dictionnaire[cle][0][1].append(line[0])\n",
    "                if not np.isnan(line[1]):\n",
    "                    dictionnaire[cle][1][1].append(line[1])\n",
    "                break\n",
    "\n",
    "    # Calcule de la statisque selon l'entrée de l'utilisateur\n",
    "    if stat.lower() == \"median\":\n",
    "        for cle in list(dictionnaire.keys()):\n",
    "            dictionnaire[cle][0][1] = round(statistics.median(\n",
    "                dictionnaire[cle][0][1]), 2)\n",
    "            dictionnaire[cle][1][1] = round(statistics.median(\n",
    "                dictionnaire[cle][1][1]), 2)\n",
    "\n",
    "    elif stat.lower() == \"mean\":\n",
    "        for cle in list(dictionnaire.keys()):\n",
    "            dictionnaire[cle][0][1] = round(statistics.mean(\n",
    "                dictionnaire[cle][0][1]), 2)\n",
    "            dictionnaire[cle][1][1] = round(statistics.mean(\n",
    "                dictionnaire[cle][1][1]), 2)\n",
    "    elif stat.lower() == \"max\":\n",
    "        for cle in list(dictionnaire.keys()):\n",
    "            dictionnaire[cle][0][1] = round(max(dictionnaire[cle][0][1]), 2)\n",
    "            dictionnaire[cle][1][1] = round(max(dictionnaire[cle][1][1]), 2)\n",
    "    elif stat.lower() == \"min\":\n",
    "        for cle in list(dictionnaire.keys()):\n",
    "            dictionnaire[cle][0][1] = round(min(dictionnaire[cle][0][1]), 2)\n",
    "            dictionnaire[cle][1][1] = round(min(dictionnaire[cle][1][1]), 2)\n",
    "    else:\n",
    "        print(\"Statistique inconnue\")\n",
    "        return None\n",
    "\n",
    "    # Mettons les noms e francais\n",
    "\n",
    "    position_dict = {\n",
    "        \"Center\": \"Pivot\",\n",
    "        \"Center-Forward\": \"Pivot/Ailier fort\",\n",
    "        \"Forward\": \"Ailier\",\n",
    "        \"Forward-Center\": \"Ailier fort/Pivot\",\n",
    "        \"Forward-Guard\": \"Ailier/Meneur\",\n",
    "        \"Guard\": \"Arrière/Meneur\",\n",
    "        \"Guard-Forward\": \"Arrière/Ailier\"\n",
    "    }\n",
    "    for cle_a in list(dictionnaire.keys()):\n",
    "        for cle_f, val_f in position_dict.items():\n",
    "            if cle_f == cle_a:\n",
    "                dictionnaire[val_f] = dictionnaire[cle_a]\n",
    "                del dictionnaire[cle_a]\n",
    "                break\n",
    "\n",
    "    return dictionnaire"
   ]
  },
  {
   "cell_type": "markdown",
   "id": "2942bbf7",
   "metadata": {},
   "source": [
    "> **c. Vérifions que les erreurs sont levées**"
   ]
  },
  {
   "cell_type": "code",
   "execution_count": 15,
   "id": "39a3db51",
   "metadata": {},
   "outputs": [
    {
     "name": "stdout",
     "output_type": "stream",
     "text": [
      "L'objet data doit être un pandas.DataFrame\n",
      "Une des trois colonnes 'height', 'weight', 'position' n'existe pas dans la table\n",
      "Une des trois colonnes 'height', 'weight', 'position' n'existe pas dans la table\n",
      "Une des trois colonnes 'height', 'weight', 'position' n'existe pas dans la table\n",
      "Une des trois colonnes 'height', 'weight', 'position' n'existe pas dans la table\n",
      "L'objet stat doit être de type str\n",
      "L'objet stat doit être une des valeurs suivantes : mean, median, min, max\n",
      "L'objet stat doit être de type str\n"
     ]
    }
   ],
   "source": [
    "valeur = [\n",
    "    [[1, 2], 'Median'],\n",
    "    [pd.DataFrame([{10}], columns=[\"weight\"]), 'Median'],\n",
    "    [pd.DataFrame([{10, 20}], columns=['height', \"weight\"]), 'Median'],\n",
    "    [pd.DataFrame([{10, 20}], columns=['position', \"weight\"]), 'Median'],\n",
    "    [pd.DataFrame([{10, 20}], columns=['height', \"position\"]), 'Median'],\n",
    "    [pd.DataFrame([{10, 20, 'd'}], columns=['height', \"weight\", \"position\"]), 10],\n",
    "    [pd.DataFrame([{10, 20, 'd'}], columns=['height', \"weight\", \"position\"]), 'mediane'],\n",
    "    [pd.DataFrame([{10, 20, 'd'}], columns=['height', \"weight\", \"position\"]), ['mean']]\n",
    "    ]\n",
    "\n",
    "\n",
    "for line in valeur:\n",
    "    try:\n",
    "        statistic_height_weight(data=line[0],\n",
    "                                stat=line[1])\n",
    "    except Exception as e:\n",
    "        print(e)"
   ]
  },
  {
   "cell_type": "markdown",
   "id": "532a2ddf",
   "metadata": {},
   "source": [
    "> **d. Vérifions que les tests passe correctement**"
   ]
  },
  {
   "cell_type": "code",
   "execution_count": 16,
   "id": "249cc10a",
   "metadata": {},
   "outputs": [
    {
     "name": "stdout",
     "output_type": "stream",
     "text": [
      "{'d': [['Taille', 203.2], ['Poids', 9.07]]}\n",
      "{'d': [['Taille', 203.2], ['Poids', 9.07]]}\n",
      "{'d': [['Taille', 218.44], ['Poids', 9.07]]}\n",
      "{'d': [['Taille', 218.44], ['Poids', 9.07]]}\n"
     ]
    }
   ],
   "source": [
    "valeur = [\n",
    "    [pd.DataFrame([['6-2', 20, 'd'],\n",
    "              ['7-2', 20, 'd']], columns=['height', \"weight\", \"position\"]), 'median'],\n",
    "    [pd.DataFrame([['6-2', 20, 'd'],\n",
    "              ['7-2', 20, 'd']], columns=['height', \"weight\", \"position\"]), 'Median'],\n",
    "    [pd.DataFrame([['6-2', 20, 'd'],\n",
    "              ['7-2', 20, 'd']], columns=['height', \"weight\", \"position\"]), 'Max'],\n",
    "    [pd.DataFrame([['6-2', 20, 'd'],\n",
    "              ['7-2', 20, 'd']], columns=['height', \"weight\", \"position\"]), 'max']\n",
    "    ]\n",
    "\n",
    "\n",
    "for line in valeur:\n",
    "    try:\n",
    "        x = statistic_height_weight(data=line[0],\n",
    "                                stat=line[1])\n",
    "        print(x)\n",
    "    except Exception as e:\n",
    "        print(e)"
   ]
  },
  {
   "cell_type": "markdown",
   "id": "25429ba8",
   "metadata": {},
   "source": [
    "> **e. Usage de la fonction**"
   ]
  },
  {
   "cell_type": "code",
   "execution_count": 17,
   "id": "70f3f749",
   "metadata": {},
   "outputs": [
    {
     "data": {
      "text/plain": [
       "{'Ailier': [['Taille', 200.66], ['Poids', 98.88]],\n",
       " 'Pivot': [['Taille', 210.82], ['Poids', 108.86]],\n",
       " 'Ailier/Meneur': [['Taille', 200.66], ['Poids', 99.79]],\n",
       " 'Arrière/Meneur': [['Taille', 190.5], ['Poids', 86.18]],\n",
       " 'Pivot/Ailier fort': [['Taille', 210.82], ['Poids', 113.4]],\n",
       " 'Arrière/Ailier': [['Taille', 198.12], ['Poids', 95.25]],\n",
       " 'Ailier fort/Pivot': [['Taille', 208.28], ['Poids', 108.86]]}"
      ]
     },
     "execution_count": 17,
     "metadata": {},
     "output_type": "execute_result"
    }
   ],
   "source": [
    "resultat = statistic_height_weight(stat=\"Median\", data=df)\n",
    "resultat"
   ]
  },
  {
   "cell_type": "markdown",
   "id": "5d47d823",
   "metadata": {},
   "source": [
    "#### 4. Distribution des universités ayant formé le plus de joueurs évoluant en NBA\n",
    "\n",
    "Nous avions réprésenté la distribution des universités selon le nombre de joueurs que ces dernières ont formé et qui ont joué en NBA. De même, pour plus de possibilité cette méthode permet à l'utiliser de choisir une période (`periode`) au cours de laquelle il veut observer la distribution ou simplement une année (`annee_draft`) bien précise. Une représentation graphique est aussi possibe (`graph=True`)."
   ]
  },
  {
   "cell_type": "code",
   "execution_count": 18,
   "id": "9902b004",
   "metadata": {},
   "outputs": [
    {
     "name": "stderr",
     "output_type": "stream",
     "text": [
      "C:\\Users\\simal\\Documents\\SIMAL OUSSEYNOU\\FRANCE\\ENSAI Bruz\\1ère année\\Projet\\Projet_traitement_donnees\\PTD_G42\\answers_class\\reponses.py:375: UserWarning: set_ticklabels() should only be used with a fixed number of ticks, i.e. after set_ticks() or using a FixedLocator.\n",
      "  ax.set_xticklabels(result[\"Université\"], rotation=80)\n"
     ]
    },
    {
     "data": {
      "image/png": "[encoded data removed]",
      "text/plain": [
       "<Figure size 1300x600 with 1 Axes>"
      ]
     },
     "metadata": {},
     "output_type": "display_data"
    }
   ],
   "source": [
    "resultat, fig = reponses.prop_joueurs_en_nba_selon_universite_de_formation(top_N=10, periode='1947-2023', graph=True)"
   ]
  },
  {
   "cell_type": "markdown",
   "id": "cb99b116",
   "metadata": {},
   "source": [
    "> Illustration de la table"
   ]
  },
  {
   "cell_type": "code",
   "execution_count": 19,
   "id": "1a3a71e3",
   "metadata": {},
   "outputs": [
    {
     "data": {
      "text/html": [
       "<div>\n",
       "<style scoped>\n",
       "    .dataframe tbody tr th:only-of-type {\n",
       "        vertical-align: middle;\n",
       "    }\n",
       "\n",
       "    .dataframe tbody tr th {\n",
       "        vertical-align: top;\n",
       "    }\n",
       "\n",
       "    .dataframe thead th {\n",
       "        text-align: right;\n",
       "    }\n",
       "</style>\n",
       "<table border=\"1\" class=\"dataframe\">\n",
       "  <thead>\n",
       "    <tr style=\"text-align: right;\">\n",
       "      <th></th>\n",
       "      <th>Université</th>\n",
       "      <th>Effectif</th>\n",
       "    </tr>\n",
       "  </thead>\n",
       "  <tbody>\n",
       "    <tr>\n",
       "      <th>0</th>\n",
       "      <td>Kentucky</td>\n",
       "      <td>121</td>\n",
       "    </tr>\n",
       "    <tr>\n",
       "      <th>1</th>\n",
       "      <td>California-Los Angeles</td>\n",
       "      <td>112</td>\n",
       "    </tr>\n",
       "    <tr>\n",
       "      <th>2</th>\n",
       "      <td>North Carolina</td>\n",
       "      <td>112</td>\n",
       "    </tr>\n",
       "    <tr>\n",
       "      <th>3</th>\n",
       "      <td>Duke</td>\n",
       "      <td>101</td>\n",
       "    </tr>\n",
       "    <tr>\n",
       "      <th>4</th>\n",
       "      <td>Kansas</td>\n",
       "      <td>82</td>\n",
       "    </tr>\n",
       "    <tr>\n",
       "      <th>5</th>\n",
       "      <td>Indiana</td>\n",
       "      <td>73</td>\n",
       "    </tr>\n",
       "    <tr>\n",
       "      <th>6</th>\n",
       "      <td>Michigan</td>\n",
       "      <td>70</td>\n",
       "    </tr>\n",
       "    <tr>\n",
       "      <th>7</th>\n",
       "      <td>Arizona</td>\n",
       "      <td>70</td>\n",
       "    </tr>\n",
       "    <tr>\n",
       "      <th>8</th>\n",
       "      <td>Maryland</td>\n",
       "      <td>69</td>\n",
       "    </tr>\n",
       "    <tr>\n",
       "      <th>9</th>\n",
       "      <td>Louisville</td>\n",
       "      <td>65</td>\n",
       "    </tr>\n",
       "  </tbody>\n",
       "</table>\n",
       "</div>"
      ],
      "text/plain": [
       "               Université  Effectif\n",
       "0                Kentucky       121\n",
       "1  California-Los Angeles       112\n",
       "2          North Carolina       112\n",
       "3                    Duke       101\n",
       "4                  Kansas        82\n",
       "5                 Indiana        73\n",
       "6                Michigan        70\n",
       "7                 Arizona        70\n",
       "8                Maryland        69\n",
       "9              Louisville        65"
      ]
     },
     "execution_count": 19,
     "metadata": {},
     "output_type": "execute_result"
    }
   ],
   "source": [
    "resultat"
   ]
  },
  {
   "cell_type": "code",
   "execution_count": 20,
   "id": "1f18a4b1",
   "metadata": {},
   "outputs": [
    {
     "data": {
      "text/plain": [
       "True"
      ]
     },
     "execution_count": 20,
     "metadata": {},
     "output_type": "execute_result"
    }
   ],
   "source": [
    "# Modifions la taille de la figure existante (en pouces)\n",
    "fig.set_size_inches(20, 14)  # largeur=14, hauteur=10\n",
    "\n",
    "# Enregistrons dans une nouvelle figure en copiant\n",
    "fig_modifie = copy.deepcopy(fig)\n",
    "\n",
    "# exportation de la datavisualisation\n",
    "exportfiles.export_to_png(\n",
    "    img= fig_modifie,\n",
    "    path=f'{figures_dir}/RQ_repQ2_universite.png'\n",
    ")"
   ]
  },
  {
   "cell_type": "markdown",
   "id": "eede156e",
   "metadata": {},
   "source": [
    "#### 5. Distribution des pays d'origine les plus représentés parmi les joueurs NBA\n",
    "\n",
    "A l'aide d'une méthode nous parvenons à repésenter à représentater cette distribution. En outre, la NBA n’est pas composée uniquement de joueurs américains : de nombreux pays contribuent également à enrichir cette ligue. On y retrouve notamment le **Canada, la France, la Serbie, l’Australie, la Croatie** et **l’Argentine** comme les six pays les plus représentés. Ces résultats témoignent de la montée en puissance du basketball à l’échelle internationale."
   ]
  },
  {
   "cell_type": "code",
   "execution_count": 21,
   "id": "acd90eb5",
   "metadata": {},
   "outputs": [
    {
     "name": "stderr",
     "output_type": "stream",
     "text": [
      "C:\\Users\\simal\\Documents\\SIMAL OUSSEYNOU\\FRANCE\\ENSAI Bruz\\1ère année\\Projet\\Projet_traitement_donnees\\PTD_G42\\answers_class\\reponses.py:862: UserWarning: set_ticklabels() should only be used with a fixed number of ticks, i.e. after set_ticks() or using a FixedLocator.\n",
      "  ax.set_xticklabels(nb_joueurs_pays_preponderant[\"Pays\"], rotation=45)\n"
     ]
    },
    {
     "data": {
      "image/png": "[encoded data removed]",
      "text/plain": [
       "<Figure size 1300x600 with 1 Axes>"
      ]
     },
     "metadata": {},
     "output_type": "display_data"
    }
   ],
   "source": [
    "rep_q3, fig = reponses.top_N_nb_joueurs_par_pays(top=10, graph=True)"
   ]
  },
  {
   "cell_type": "code",
   "execution_count": 22,
   "id": "99b5a633",
   "metadata": {},
   "outputs": [
    {
     "data": {
      "text/plain": [
       "True"
      ]
     },
     "execution_count": 22,
     "metadata": {},
     "output_type": "execute_result"
    }
   ],
   "source": [
    "# exporter cette table ?\n",
    "exportfiles.export_to_csv_format(\n",
    "    rep_q3,\n",
    "    f'{tables_dir}/RQ_repQ3.csv'\n",
    ")"
   ]
  },
  {
   "cell_type": "code",
   "execution_count": 23,
   "id": "971494a9",
   "metadata": {},
   "outputs": [
    {
     "data": {
      "text/plain": [
       "True"
      ]
     },
     "execution_count": 23,
     "metadata": {},
     "output_type": "execute_result"
    }
   ],
   "source": [
    "# Modifions la taille de la figure existante (en pouces)\n",
    "fig.set_size_inches(14, 8)  # largeur=14, hauteur=8\n",
    "\n",
    "# Enregistrons dans une nouvelle figure en copiant\n",
    "fig_modifie = copy.deepcopy(fig)\n",
    "\n",
    "# exportation de la datavisualisation\n",
    "exportfiles.export_to_png(\n",
    "    img= fig_modifie,\n",
    "    path=f'{figures_dir}/RQ_repQ3_pays.png'\n",
    ")"
   ]
  },
  {
   "cell_type": "markdown",
   "id": "9b4ba242",
   "metadata": {},
   "source": [
    "> **Réponse à la question précédente en python base - Karima JABRI**"
   ]
  },
  {
   "cell_type": "code",
   "execution_count": 24,
   "id": "74433186",
   "metadata": {},
   "outputs": [],
   "source": [
    "# Récupértation de la table d'intérêt\n",
    "common_player_without_usa = data[\"common_player_info\"][data[\"common_player_info\"][\"country\"] != 'USA']"
   ]
  },
  {
   "cell_type": "markdown",
   "id": "20feb0f8",
   "metadata": {},
   "source": [
    "> **Traitement**"
   ]
  },
  {
   "cell_type": "code",
   "execution_count": 25,
   "id": "91230913",
   "metadata": {},
   "outputs": [
    {
     "name": "stdout",
     "output_type": "stream",
     "text": [
      "{'France': 8.229426433915211, 'Spain': 2.743142144638404, 'Nigeria': 2.743142144638404, 'South Sudan': 1.2468827930174564, 'Turkey': 2.9925187032418954, 'Canada': 9.476309226932669, 'United Kingdom': 1.4962593516209477, 'Australia': 5.7356608478802995, 'Lithuania': 3.491271820448878, 'Greece': 2.493765586034913, 'Brazil': 2.9925187032418954, 'Puerto Rico': 1.745635910224439, 'Croatia': 4.987531172069826, 'Russia': 2.2443890274314215, 'Latvia': 1.745635910224439, 'Georgia': 1.2468827930174564, 'Serbia': 6.733167082294265, 'Argentina': 3.7406483790523692, 'Germany': 2.493765586034913, 'Slovenia': 2.2443890274314215, 'Italy': 1.745635910224439, 'Dominican Republic': 1.2468827930174564, 'Senegal': 2.2443890274314215, 'Ukraine': 1.745635910224439, 'Montenegro': 1.2468827930174564, 'Bosnia and Herzegovina': 1.2468827930174564}\n",
      "{'France': 33, 'Spain': 11, 'Nigeria': 11, 'New Zealand': 2, 'South Sudan': 5, 'Trinidad and Tobago': 1, 'Turkey': 12, 'Canada': 38, 'United Kingdom': 6, 'Australia': 23, 'Lithuania': 14, 'Greece': 10, 'Macedonia': 1, 'Brazil': 12, 'Scotland': 1, 'Puerto Rico': 7, 'Mexico': 3, 'Bahamas': 4, 'Croatia': 20, 'China': 4, 'Russia': 9, 'US Virgin Islands': 2, 'Ghana': 1, 'Latvia': 7, 'Georgia': 5, 'DRC': 2, 'Serbia': 27, 'Sudan': 1, 'Argentina': 15, 'Germany': 10, 'Cuba': 2, 'Saint Lucia': 1, 'Slovenia': 9, 'Norway': 1, 'Ireland': 1, 'Switzerland': 1, 'Israel': 2, 'Haiti': 2, 'Italy': 7, 'Dominican Republic': 5, 'Guinea': 1, 'Mali': 1, 'Senegal': 9, 'Colombia': 1, 'Cameroon': 4, 'Congo': 2, 'Angola': 1, 'Ukraine': 7, 'Panama': 1, 'St. Vincent & Grenadines': 1, 'Netherlands': 2, 'Bulgaria': 1, 'Poland': 4, 'Japan': 2, 'Iran': 1, 'Jamaica': 4, 'Czech Republic': 4, 'Gabon': 1, 'Finland': 3, 'Belgium': 1, 'Montenegro': 5, 'Romania': 1, 'Bosnia and Herzegovina': 5, 'Estonia': 1, nan: 1, 'Egypt': 1, 'Belize': 1, 'Antigua and Barbuda': 1, 'Austria': 1, 'Portugal': 1, 'Cabo Verde': 1, 'Tanzania': 1, 'Venezuela': 2}\n"
     ]
    }
   ],
   "source": [
    "liste = []\n",
    "for line in common_player_without_usa.values:\n",
    "    liste.append(list(line))\n",
    "\n",
    "# liste_common_player_without_usa = common_player_without_usa.values.tolist() #avec pandas\n",
    "\n",
    "\n",
    "# nombre de joueurs pour chaque pays mentionné\n",
    "liste_common_player_without_usa = liste\n",
    "nb_joueurs_pays_bis = {}\n",
    "for joueurs in liste_common_player_without_usa :\n",
    "    pays = joueurs[9]     # le pays est la neuvième colonne du tableau\n",
    "    if pays not in nb_joueurs_pays_bis:\n",
    "        nb_joueurs_pays_bis[pays] = 0\n",
    "    nb_joueurs_pays_bis[pays] += 1\n",
    "\n",
    "\n",
    "# proportions de joueurs pour chaque pays mentionné (en pourcentage)\n",
    "prop_joueurs_pays_bis  = {}\n",
    "for pays, nb_joueurs in nb_joueurs_pays_bis.items():\n",
    "    prop_joueurs_pays_bis[pays] = nb_joueurs * 100 / len(liste_common_player_without_usa)\n",
    "\n",
    "# on ne garde que les pays prépondérants\n",
    "prop_joueur_pays_preponderant_bis = {pays : prop for pays, prop in prop_joueurs_pays_bis.items() if prop > 1}\n",
    "\n",
    "print(prop_joueur_pays_preponderant_bis) ; print(nb_joueurs_pays_bis)"
   ]
  },
  {
   "cell_type": "markdown",
   "id": "6ba174be",
   "metadata": {},
   "source": [
    "#### 6. L'évolution du nombre de match sur une période donnée"
   ]
  },
  {
   "cell_type": "code",
   "execution_count": null,
   "id": "a509c662",
   "metadata": {},
   "outputs": [],
   "source": [
    "def create_line_chart_nb_match(data: pd.DataFrame, year_range: tuple = None) -> matplotlib.figure.Figure:"
   ]
  },
  {
   "cell_type": "code",
   "execution_count": null,
   "id": "8bd5c855",
   "metadata": {},
   "outputs": [],
   "source": [
    "def create_line_chart_nb_match(data: pd.DataFrame, year_range: tuple = None) -> matplotlib.figure.Figure:\n",
    "        \"\"\"\n",
    "        Retourne un graphique de l'évolution du nombre de rencontres NBA par saison,\n",
    "        avec une option de filtrage par plage d'années.\n",
    "\n",
    "        Cette méthode regroupe les données par saison, compte le nombre de rencontres,\n",
    "        puis trace un graphique en ligne avec Matplotlib, filtré par année si spécifié.\n",
    "\n",
    "        Parameters\n",
    "        ----------\n",
    "        self : object\n",
    "            Instance de la classe contenant les attributs `self.data['game']` et\n",
    "            `self.data['game_summary']`, qui doivent être des DataFrames pandas.\n",
    "\n",
    "        year_range : tuple, optional\n",
    "            Un tuple (année_début, année_fin) pour filtrer les données. Si non spécifié,\n",
    "            toutes les données sont utilisées.\n",
    "\n",
    "        Returns\n",
    "        -------\n",
    "        fig : matplotlib.figure.Figure\n",
    "            L'objet figure représentant le graphique, sans affichage automatique.\n",
    "        \"\"\"\n",
    "        # Si une plage d'années est donnée, filtrer les données\n",
    "        filtered_data = copy.deepcopy(data)\n",
    "        filtered_data[\"all_seasons_combined\"] = filtered_data[\"season_id\"].apply(\n",
    "            lambda x: int(str(x)[-4:])\n",
    "        )\n",
    "        if year_range:\n",
    "            start_year, end_year = year_range\n",
    "            if start_year > end_year:\n",
    "                raise ValueError(\n",
    "                    \"La date de début ne peut pas être après la date de fin\"\n",
    "                )\n",
    "\n",
    "            # Filtrer les matchs en fonction des années\n",
    "            filtered_data = filtered_data[\n",
    "                (filtered_data[\"all_seasons_combined\"] >= start_year)\n",
    "                & (filtered_data[\"all_seasons_combined\"] <= end_year)\n",
    "            ]\n",
    "        else:\n",
    "            # Si aucune plage d'années n'est donnée, utiliser toutes les données\n",
    "            pass\n",
    "\n",
    "        # Agrégation des données pour compter les matchs par saison\n",
    "        nb_match_par_saison = (\n",
    "            filtered_data.groupby([\"all_seasons_combined\"])  # Groupement par saison\n",
    "            .agg({\"game_id\": \"count\"})  # Comptage des matchs\n",
    "            .reset_index()\n",
    "        )\n",
    "\n",
    "        # Renommage des colonnes pour plus de clarté\n",
    "        nb_match_par_saison.rename(\n",
    "            columns={\"all_seasons_combined\": \"Saisons\", \"game_id\": \"Nombre de matchs\"},\n",
    "            inplace=True,\n",
    "        )\n",
    "\n",
    "        # Création du graphique\n",
    "        fig, ax = plt.subplots(figsize=(10, 5))\n",
    "\n",
    "        # Tracé du graphique en ligne\n",
    "        ax.plot(\n",
    "            nb_match_par_saison[\"Saisons\"],  # Axe des X : saisons\n",
    "            nb_match_par_saison[\"Nombre de matchs\"],  # Axe des Y : nombre de matchs\n",
    "            marker=\"o\",  # Ajouter un marqueur pour chaque point\n",
    "            color=\"limegreen\",  # Couleur des points\n",
    "        )\n",
    "\n",
    "        # Titres et labels\n",
    "        ax.set_title(\"Évolution du nombre de matchs par saison\")\n",
    "        ax.set_xlabel(\"Saison\")\n",
    "        ax.set_ylabel(\"Nombre de matchs\")\n",
    "        ax.grid(True)  # Affichage de la grille\n",
    "        plt.xticks(rotation=45)  # Rotation des labels de l'axe X\n",
    "        plt.tight_layout()  # Ajustement du layout pour éviter les chevauchements\n",
    "\n",
    "        return fig"
   ]
  },
  {
   "cell_type": "code",
   "execution_count": 27,
   "id": "ce16f319",
   "metadata": {},
   "outputs": [
    {
     "name": "stderr",
     "output_type": "stream",
     "text": [
      "C:\\Users\\simal\\AppData\\Local\\Temp\\ipykernel_52416\\1959984831.py:13: UserWarning: FigureCanvasAgg is non-interactive, and thus cannot be shown\n",
      "  my_graph.show()\n"
     ]
    },
    {
     "data": {
      "image/png": "[encoded data removed]",
      "text/plain": [
       "<Figure size 1000x500 with 1 Axes>"
      ]
     },
     "metadata": {},
     "output_type": "display_data"
    }
   ],
   "source": [
    "# utilisation de la fonction\n",
    "data_to_use = data['game']\n",
    "year_range = (2000, 2022)\n",
    "my_graph = create_line_chart_nb_match(data=data_to_use, year_range=year_range)\n",
    "\n",
    "# pour exporter\n",
    "exportfiles.export_to_png(\n",
    "    img= my_graph,\n",
    "    path=f'{figures_dir}/RQ_repQ5_evo_rencontre.png'\n",
    ")\n",
    "\n",
    "# affichage du graphique\n",
    "my_graph.show()\n"
   ]
  },
  {
   "cell_type": "markdown",
   "id": "57beaf96",
   "metadata": {},
   "source": [
    "#### 6. Reponse à la question précédente en python base - **Djamal TOE**"
   ]
  },
  {
   "cell_type": "markdown",
   "id": "c3c2ac74",
   "metadata": {},
   "source": [
    "On suppose que la table concernée aie déjà été chargée et que je dois effectué les opérations nécessaires manuellement pour obtenir la table résultante pour le graphique. La foncton faite avec pandas (`create_line_chart_nb_match`) compte le nombre de jeux par année (saison). Chaque jeu ayant un id (`game_id`) unique, pour ecrire ma fonction à la main il suffit juste de compter le nombre d'occurences de chaque année comprise dans la page d'années (`year_range`) entrée par l'utilisateur. Si je devais le faire en `pandas`, cela équuivaudrait à un `groupby(year)` et un `count(gameid)` (ce que je fais dans la fonction ci-avant), mais équivaut également à `groupby(year)` et à un comptage du nombre de ligne de la nouvelle table rétourner."
   ]
  },
  {
   "cell_type": "markdown",
   "id": "a0b2e49a",
   "metadata": {},
   "source": [
    "Pour ce faire j'écris une fonction qui tronquer les éléments d'une liste d'entier à partir du dernier indexe en partant de la fin. Ensuite j'écris une fonction qui cmopte le nombre d'occurence des éléments d'une liste et retourne un dictionnaire ou les clés sont en fait les valeurs distincts des éléments de la liste et les valeurs sont les nombres d'occurrence de chaque valeurs distinctes. J'utilise enfin ces fonction dans ma fonction finale qui me retourne un dictionnaire d'année (clé) et de nombre de match (valeur)"
   ]
  },
  {
   "cell_type": "code",
   "execution_count": 28,
   "id": "7b76371e",
   "metadata": {},
   "outputs": [],
   "source": [
    "def tronque_list(l: list) -> list:\n",
    "    \"\"\"\n",
    "    Extrait les 4 derniers chiffres de chaque élément d'une liste et les convertit en entiers.\n",
    "\n",
    "    Cette fonction prend une liste de 5 éléments (de n'importe quel type convertible en chaîne de caractères),\n",
    "    extrait les 4 derniers caractères de chaque élément une fois converti en chaîne, puis les convertit en entiers.\n",
    "\n",
    "    Paramètres\n",
    "    ----------\n",
    "    l : list\n",
    "        Liste de 5 éléments. Chaque élément doit pouvoir être converti en chaîne de caractères\n",
    "        d'au moins 4 caractères.\n",
    "\n",
    "    Retour\n",
    "    ------\n",
    "    list\n",
    "        Une nouvelle liste contenant les 4 derniers chiffres de chaque élément, convertis en entiers.\n",
    "\n",
    "    Exceptions\n",
    "    ----------\n",
    "    TypeError :\n",
    "        Si l'entrée n'est pas une liste.\n",
    "    ValueError :\n",
    "        Si la liste ne contient pas exactement 5 éléments.\n",
    "\n",
    "    Exemple\n",
    "    -------\n",
    "    >>> convert_list_elt_to_str([\"S2020\", \"S2021\", \"S2022\", \"S2023\", \"S2024\"])\n",
    "    [2020, 2021, 2022, 2023, 2024]\n",
    "    \"\"\"\n",
    "\n",
    "    if not isinstance(l, list):\n",
    "        raise TypeError('l doit être une liste')\n",
    "    if any(len(str(elt)) != 5 for elt in l):\n",
    "        raise ValueError('La liste doit avoir 5 éléments')\n",
    "    if (\n",
    "        any(not isinstance(elt, int) for elt in l) or\n",
    "        any(not str(elt).isdigit() for elt in l)\n",
    "    ):\n",
    "        raise TypeError(\n",
    "            'Les éléments de la liste doivent être de type'\n",
    "            ' int ou des chaines de carractères composées uniquement de chiffres'\n",
    "        )\n",
    "    list_result = copy.deepcopy(l)\n",
    "    list_result = [int(str(elt)[-4:]) for elt in l]\n",
    "    return list_result"
   ]
  },
  {
   "cell_type": "code",
   "execution_count": 29,
   "id": "fe03baa3",
   "metadata": {},
   "outputs": [],
   "source": [
    "def count_nb_occurrences_in_a_list(l: list) -> dict:\n",
    "    \"\"\"\n",
    "    Compte le nombre d’occurrences de chaque élément dans une liste.\n",
    "\n",
    "    Parameters\n",
    "    ----------\n",
    "    l : list\n",
    "        La liste dont on veut compter les occurrences.\n",
    "\n",
    "    Returns\n",
    "    -------\n",
    "    dict\n",
    "        Dictionnaire où chaque clé est un élément unique de la liste\n",
    "        et chaque valeur est le nombre de fois que cet élément apparaît.\n",
    "\n",
    "    Examples\n",
    "    --------\n",
    "    >>> count_nb_occurrences_in_a_list([1, 2, 2, 3, 1])\n",
    "    {1: 2, 2: 2, 3: 1}\n",
    "\n",
    "    >>> count_nb_occurrences_in_a_list(['a', 'b', 'a', 'c'])\n",
    "    {'a': 2, 'b': 1, 'c': 1}\n",
    "    \"\"\"\n",
    "\n",
    "    if not isinstance(l, list):\n",
    "        raise TypeError('l doit être une liste')\n",
    "    if not l:\n",
    "        raise ValueError(\"La liste ne peut pas être vide\")\n",
    "\n",
    "    counts = {}\n",
    "    for elt in l:\n",
    "        counts[elt] = counts.get(elt, 0) + 1\n",
    "    return counts\n"
   ]
  },
  {
   "cell_type": "code",
   "execution_count": 30,
   "id": "9cef1d53",
   "metadata": {},
   "outputs": [],
   "source": [
    "def get_nb_matches_per_season_plain(data, year_range=None) -> dict:\n",
    "    \"\"\"\n",
    "    Retourne le nombre de rencontres NBA par saison sans utiliser pandas,\n",
    "    avec option de filtrage par plage d'années.\n",
    "\n",
    "    Parameters\n",
    "    ----------\n",
    "    data : iterable of dict\n",
    "        Chaque élément doit contenir au moins les clés 'season_id' et 'game_id'.\n",
    "    year_range : tuple of two ints, optional\n",
    "        (année_début, année_fin). Si fourni, seules les saisons dans cet intervalle\n",
    "        sont conservées.\n",
    "\n",
    "    Returns\n",
    "    -------\n",
    "    counts : dict\n",
    "        Dictionnaire ou la clé c'est la saison (annee) et\n",
    "        la valeur c'est le nombre de matchs disputéau cours de celle-ci\n",
    "    \"\"\"\n",
    "\n",
    "    if not isinstance(data, pd.DataFrame):\n",
    "        raise TypeError(\"La table doit être un objet pandas\")\n",
    "    if data is None:\n",
    "        raise ValueError('La table ne peut pas être un objet nul')\n",
    "    if year_range is None:\n",
    "        raise ValueError(\"La plage d'année est incorrecte\")\n",
    "    if not isinstance(year_range[0], int) or not isinstance(year_range[1], int):\n",
    "        raise TypeError(\"Chaque année doit être un entier\")\n",
    "    if year_range[1] < year_range[0]:\n",
    "        raise ValueError(\"La date de debut ne peut pas être après la date de fin\")\n",
    "    if not isinstance(year_range, tuple):\n",
    "        raise TypeError(\"La plage d'année doit être un tuple\")\n",
    "\n",
    "\n",
    "    counts = {}\n",
    "    for column, row in data.items():\n",
    "        # extraire l'année de la saison\n",
    "        if column == 'season_id':\n",
    "            row = row.tolist()\n",
    "            years = tronque_list(row)\n",
    "            filtered_years = []\n",
    "            for year in years:\n",
    "                if year <= year_range[1] and year >= year_range[0]:\n",
    "                    filtered_years.append(year)\n",
    "\n",
    "    # count le nombre d'occurence des années\n",
    "    counts = count_nb_occurrences_in_a_list(filtered_years)\n",
    "\n",
    "    return counts\n"
   ]
  },
  {
   "cell_type": "code",
   "execution_count": 31,
   "id": "f20a3d7a",
   "metadata": {},
   "outputs": [
    {
     "data": {
      "text/plain": [
       "{2000: 1261,\n",
       " 2001: 1191,\n",
       " 2002: 1279,\n",
       " 2003: 1273,\n",
       " 2004: 1316,\n",
       " 2005: 1343,\n",
       " 2006: 1431,\n",
       " 2007: 1424,\n",
       " 2008: 1427,\n",
       " 2009: 1432,\n",
       " 2010: 1432,\n",
       " 2011: 1105,\n",
       " 2012: 203,\n",
       " 2013: 1435,\n",
       " 2014: 1431,\n",
       " 2015: 1427,\n",
       " 2016: 1412,\n",
       " 2017: 1392,\n",
       " 2018: 1314,\n",
       " 2019: 1143,\n",
       " 2020: 1216,\n",
       " 2021: 1384,\n",
       " 2022: 1386}"
      ]
     },
     "execution_count": 31,
     "metadata": {},
     "output_type": "execute_result"
    }
   ],
   "source": [
    "data_to_use = data['game']\n",
    "year_range = (2000, 2022)\n",
    "result = get_nb_matches_per_season_plain(data_to_use, year_range)\n",
    "result"
   ]
  },
  {
   "cell_type": "markdown",
   "id": "59084ab5",
   "metadata": {},
   "source": [
    "On retrouve donc les mêmes valeurs que sur le graphique en ammont. Néanmoins je le tracerai avec `matplotlib`."
   ]
  },
  {
   "cell_type": "code",
   "execution_count": 32,
   "id": "e5d1f11d",
   "metadata": {},
   "outputs": [
    {
     "name": "stderr",
     "output_type": "stream",
     "text": [
      "C:\\Users\\simal\\AppData\\Local\\Temp\\ipykernel_52416\\4116018267.py:22: UserWarning: FigureCanvasAgg is non-interactive, and thus cannot be shown\n",
      "  fig.show()\n"
     ]
    },
    {
     "data": {
      "image/png": "[encoded data removed]",
      "text/plain": [
       "<Figure size 1000x500 with 1 Axes>"
      ]
     },
     "metadata": {},
     "output_type": "display_data"
    }
   ],
   "source": [
    "season = np.asarray(list(result.keys()))\n",
    "nb_games = np.asarray(list(result.values()))\n",
    "\n",
    "fig, ax = plt.subplots(figsize=(10, 5))\n",
    "\n",
    "        # Tracé du graphique en ligne\n",
    "ax.plot(\n",
    "    season,  # Axe des X : saisons\n",
    "    nb_games,  # Axe des Y : nombre de matchs\n",
    "    marker=\"o\",  # Ajouter un marqueur pour chaque point\n",
    "    color=\"limegreen\",  # Couleur des points\n",
    ")\n",
    "\n",
    "# Titres et labels\n",
    "ax.set_title(\"Évolution du nombre de matchs par saison\")\n",
    "ax.set_xlabel(\"Saison\")\n",
    "ax.set_ylabel(\"Nombre de matchs\")\n",
    "ax.grid(True)  # Affichage de la grille\n",
    "plt.xticks(rotation=45)  # Rotation des labels de l'axe X\n",
    "plt.tight_layout()\n",
    "\n",
    "fig.show()\n"
   ]
  },
  {
   "cell_type": "markdown",
   "id": "c902aab5",
   "metadata": {},
   "source": [
    "#### 7. Les numéros 1 de la draft lors des 5 dernières saisons\n",
    "\n",
    "Dans cette section, nous présentons un tableau récapitulatif des **numéros 1 de la Draft NBA au cours des cinq dernières saisons**, ainsi que les **équipes** qui les ont sélectionnés. Ces données permettent d’observer l’origine des joueurs les plus convoités à l’entrée dans la ligue. Notre méthode de classe offre la possibilité de décider du nombre d'année en arrière que l'on veut considérer."
   ]
  },
  {
   "cell_type": "code",
   "execution_count": 33,
   "id": "da33d770",
   "metadata": {},
   "outputs": [
    {
     "data": {
      "text/html": [
       "<div>\n",
       "<style scoped>\n",
       "    .dataframe tbody tr th:only-of-type {\n",
       "        vertical-align: middle;\n",
       "    }\n",
       "\n",
       "    .dataframe tbody tr th {\n",
       "        vertical-align: top;\n",
       "    }\n",
       "\n",
       "    .dataframe thead th {\n",
       "        text-align: right;\n",
       "    }\n",
       "</style>\n",
       "<table border=\"1\" class=\"dataframe\">\n",
       "  <thead>\n",
       "    <tr style=\"text-align: right;\">\n",
       "      <th></th>\n",
       "      <th>Identifiant</th>\n",
       "      <th>Saison</th>\n",
       "      <th>Nom</th>\n",
       "      <th>Equipe</th>\n",
       "      <th>Pays</th>\n",
       "    </tr>\n",
       "  </thead>\n",
       "  <tbody>\n",
       "    <tr>\n",
       "      <th>69</th>\n",
       "      <td>1629627</td>\n",
       "      <td>2019</td>\n",
       "      <td>Zion Williamson</td>\n",
       "      <td>New Orleans</td>\n",
       "      <td>USA</td>\n",
       "    </tr>\n",
       "    <tr>\n",
       "      <th>70</th>\n",
       "      <td>1630162</td>\n",
       "      <td>2020</td>\n",
       "      <td>Anthony Edwards</td>\n",
       "      <td>Minnesota</td>\n",
       "      <td>USA</td>\n",
       "    </tr>\n",
       "    <tr>\n",
       "      <th>71</th>\n",
       "      <td>1630595</td>\n",
       "      <td>2021</td>\n",
       "      <td>Cade Cunningham</td>\n",
       "      <td>Detroit</td>\n",
       "      <td>USA</td>\n",
       "    </tr>\n",
       "    <tr>\n",
       "      <th>72</th>\n",
       "      <td>1631094</td>\n",
       "      <td>2022</td>\n",
       "      <td>Paolo Banchero</td>\n",
       "      <td>Orlando</td>\n",
       "      <td>USA</td>\n",
       "    </tr>\n",
       "    <tr>\n",
       "      <th>73</th>\n",
       "      <td>1641705</td>\n",
       "      <td>2023</td>\n",
       "      <td>Victor Wembanyama</td>\n",
       "      <td>San Antonio</td>\n",
       "      <td>France</td>\n",
       "    </tr>\n",
       "  </tbody>\n",
       "</table>\n",
       "</div>"
      ],
      "text/plain": [
       "    Identifiant  Saison                Nom       Equipe    Pays\n",
       "69      1629627    2019    Zion Williamson  New Orleans     USA\n",
       "70      1630162    2020    Anthony Edwards    Minnesota     USA\n",
       "71      1630595    2021    Cade Cunningham      Detroit     USA\n",
       "72      1631094    2022     Paolo Banchero      Orlando     USA\n",
       "73      1641705    2023  Victor Wembanyama  San Antonio  France"
      ]
     },
     "execution_count": 33,
     "metadata": {},
     "output_type": "execute_result"
    }
   ],
   "source": [
    "rep_q4 = reponses.premiers_choix_draft_N_derniere_saison(N_saison=5)\n",
    "rep_q4"
   ]
  },
  {
   "cell_type": "code",
   "execution_count": 34,
   "id": "3dc13c70",
   "metadata": {},
   "outputs": [
    {
     "data": {
      "text/plain": [
       "True"
      ]
     },
     "execution_count": 34,
     "metadata": {},
     "output_type": "execute_result"
    }
   ],
   "source": [
    "# exporter cette table ?\n",
    "exportfiles.export_to_csv_format(\n",
    "    rep_q4,\n",
    "    f'{tables_dir}/RQ_repQ4.csv'\n",
    ")"
   ]
  },
  {
   "cell_type": "markdown",
   "id": "5be68d88",
   "metadata": {},
   "source": [
    "> **Réponse à la question précedente en python base - Denis THAYANANTHARAJAH**"
   ]
  },
  {
   "cell_type": "code",
   "execution_count": 35,
   "id": "127f87e1",
   "metadata": {},
   "outputs": [],
   "source": [
    "def premiers_choix_draft_N_derniere_saison(data: dict, N_saison: int = 3) -> list:\n",
    "    \"\"\"\n",
    "    Retourne les informations sur les premiers choix de la Draft NBA\n",
    "    pour les N dernières saisons (par défaut 3), en utilisant Python pur.\n",
    "\n",
    "    Paramètres\n",
    "    ----------\n",
    "    N_saison : int\n",
    "        Le nombre de saisons à prendre en compte à partir de 2023 vers le passé.\n",
    "    data : dict\n",
    "        Le dictionnaire contenant les données, avec une clé 'draft_history' (list of dicts).\n",
    "\n",
    "    Returns\n",
    "    -------\n",
    "    list\n",
    "        Liste de dictionnaires contenant les informations : identifiant, saison,\n",
    "        nom, ville de l'équipe et pays d'origine.\n",
    "    \"\"\"\n",
    "\n",
    "    if not isinstance(N_saison, int) or N_saison <= 0:\n",
    "        raise ValueError(\"L'argument N_saison doit être un entier strictement positif.\")\n",
    "\n",
    "    # Charger les données nécessaires et les convertir en listes de dictionnaires\n",
    "    draft_history = data[\"draft_history\"].to_dict('records')  # Conversion de DataFrame en liste de dictionnaires\n",
    "    players_info = data[\"common_player_info\"].to_dict('records')  # Conversion de DataFrame en liste de dictionnaires\n",
    "\n",
    "    # Filtrer les premiers choix (overall_pick == 1 et draft_type == \"Draft\")\n",
    "    premiers = []\n",
    "    for joueur in draft_history:\n",
    "        if joueur[\"overall_pick\"] == 1 and joueur[\"draft_type\"] == \"Draft\":\n",
    "            premiers.append(joueur)\n",
    "\n",
    "    # Ne garder que les saisons récentes\n",
    "    annee_min = 2023 - N_saison + 1\n",
    "    premiers = [j for j in premiers if j[\"season\"] >= annee_min]\n",
    "\n",
    "    # Résultat : Ajouter les informations de pays pour chaque joueur\n",
    "    resultat = []\n",
    "    for joueur in premiers:\n",
    "        pays = None\n",
    "        # Trouver le pays du joueur\n",
    "        for info in players_info:\n",
    "            if info[\"person_id\"] == joueur[\"person_id\"]:\n",
    "                pays = info.get(\"country\", None)\n",
    "                break\n",
    "\n",
    "        # Cas spécial pour Victor Wembanyama (car le jeu de données considère qu'il n'a pas de pays)\n",
    "        if joueur[\"person_id\"] == 1641705:\n",
    "            pays = \"France\"\n",
    "\n",
    "        # Ajouter l'information du joueur dans le résultat\n",
    "        resultat.append({\n",
    "            \"Identifiant\": joueur[\"person_id\"],\n",
    "            \"Saison\": joueur[\"season\"],\n",
    "            \"Nom\": joueur[\"player_name\"],\n",
    "            \"Equipe\": joueur[\"team_city\"],\n",
    "            \"Pays\": pays\n",
    "        })\n",
    "\n",
    "    return resultat\n"
   ]
  },
  {
   "cell_type": "code",
   "execution_count": 36,
   "id": "bb647664",
   "metadata": {},
   "outputs": [
    {
     "name": "stdout",
     "output_type": "stream",
     "text": [
      "[{'Identifiant': 1628365, 'Saison': 2017, 'Nom': 'Markelle Fultz', 'Equipe': 'Philadelphia', 'Pays': 'USA'}, {'Identifiant': 1629028, 'Saison': 2018, 'Nom': 'Deandre Ayton', 'Equipe': 'Phoenix', 'Pays': 'Bahamas'}, {'Identifiant': 1629627, 'Saison': 2019, 'Nom': 'Zion Williamson', 'Equipe': 'New Orleans', 'Pays': 'USA'}, {'Identifiant': 1630162, 'Saison': 2020, 'Nom': 'Anthony Edwards', 'Equipe': 'Minnesota', 'Pays': 'USA'}, {'Identifiant': 1630595, 'Saison': 2021, 'Nom': 'Cade Cunningham', 'Equipe': 'Detroit', 'Pays': 'USA'}, {'Identifiant': 1631094, 'Saison': 2022, 'Nom': 'Paolo Banchero', 'Equipe': 'Orlando', 'Pays': 'USA'}, {'Identifiant': 1641705, 'Saison': 2023, 'Nom': 'Victor Wembanyama', 'Equipe': 'San Antonio', 'Pays': 'France'}]\n"
     ]
    }
   ],
   "source": [
    "# Test de la fonction\n",
    "resultat = premiers_choix_draft_N_derniere_saison(data, N_saison=7)\n",
    "print(resultat)"
   ]
  },
  {
   "cell_type": "markdown",
   "id": "e3f1645c",
   "metadata": {},
   "source": [
    "#### 8. Les équipes ayant obtenu le plus de victoires et de défaites durant les 5 dernières saisons régulières\n",
    "\n",
    "En nous servant toujours d'une méthode de notre classe `Reponse`, nous pouvons apporter une réponse à cette intérogation. La méthode permet à l'utilisateur de définir : \n",
    "\n",
    "* la période\n",
    "* le type de saison à laquelle il souhaite s'intéresser (Saison régulière, playoffs, etc.)\n",
    "* le nombre d'année antérieure qu'il souhaite considérer\n",
    "\n",
    "Aussi grâce à cette méthode, on peut afficher soit l'équipe avec le plus de victoires sur la saison, soit celle avec le plus de défaites."
   ]
  },
  {
   "cell_type": "markdown",
   "id": "e19a8454",
   "metadata": {},
   "source": [
    "> Les équipes avec le plus de victoires sur chaque saison"
   ]
  },
  {
   "cell_type": "code",
   "execution_count": 37,
   "id": "a69a62ed",
   "metadata": {},
   "outputs": [],
   "source": [
    "rep_q5_1 = reponses.nombre_victoires_ou_defaites_equipe_les_N_dernieres_saisons(debut_periode=2018,\n",
    "                                                                     fin_periode=2023,\n",
    "                                                                     season_type=\"Regular Season\")"
   ]
  },
  {
   "cell_type": "markdown",
   "id": "c46c6879",
   "metadata": {},
   "source": [
    "> Les équipes avec le plus de défaites sur chaque saison"
   ]
  },
  {
   "cell_type": "code",
   "execution_count": 38,
   "id": "c5fc6779",
   "metadata": {},
   "outputs": [
    {
     "data": {
      "text/plain": [
       "True"
      ]
     },
     "execution_count": 38,
     "metadata": {},
     "output_type": "execute_result"
    }
   ],
   "source": [
    "# exporter cette table ?\n",
    "exportfiles.export_to_csv_format(\n",
    "    rep_q5_1,\n",
    "    f'{tables_dir}/RQ_repQ5_victoire.csv'\n",
    ")"
   ]
  },
  {
   "cell_type": "code",
   "execution_count": 39,
   "id": "6c48ad97",
   "metadata": {},
   "outputs": [
    {
     "data": {
      "text/html": [
       "<div>\n",
       "<style scoped>\n",
       "    .dataframe tbody tr th:only-of-type {\n",
       "        vertical-align: middle;\n",
       "    }\n",
       "\n",
       "    .dataframe tbody tr th {\n",
       "        vertical-align: top;\n",
       "    }\n",
       "\n",
       "    .dataframe thead th {\n",
       "        text-align: right;\n",
       "    }\n",
       "</style>\n",
       "<table border=\"1\" class=\"dataframe\">\n",
       "  <thead>\n",
       "    <tr style=\"text-align: right;\">\n",
       "      <th></th>\n",
       "      <th>Saison</th>\n",
       "      <th>Equipes</th>\n",
       "      <th>Nombre de défaites</th>\n",
       "    </tr>\n",
       "  </thead>\n",
       "  <tbody>\n",
       "    <tr>\n",
       "      <th>0</th>\n",
       "      <td>2018-2019</td>\n",
       "      <td>New York Knicks</td>\n",
       "      <td>65</td>\n",
       "    </tr>\n",
       "    <tr>\n",
       "      <th>1</th>\n",
       "      <td>2019-2020</td>\n",
       "      <td>Golden State Warriors</td>\n",
       "      <td>50</td>\n",
       "    </tr>\n",
       "    <tr>\n",
       "      <th>2</th>\n",
       "      <td>2020-2021</td>\n",
       "      <td>Houston Rockets</td>\n",
       "      <td>55</td>\n",
       "    </tr>\n",
       "    <tr>\n",
       "      <th>3</th>\n",
       "      <td>2021-2022</td>\n",
       "      <td>Houston Rockets</td>\n",
       "      <td>62</td>\n",
       "    </tr>\n",
       "    <tr>\n",
       "      <th>4</th>\n",
       "      <td>2022-2023</td>\n",
       "      <td>Detroit Pistons</td>\n",
       "      <td>65</td>\n",
       "    </tr>\n",
       "  </tbody>\n",
       "</table>\n",
       "</div>"
      ],
      "text/plain": [
       "      Saison                Equipes  Nombre de défaites\n",
       "0  2018-2019        New York Knicks                  65\n",
       "1  2019-2020  Golden State Warriors                  50\n",
       "2  2020-2021        Houston Rockets                  55\n",
       "3  2021-2022        Houston Rockets                  62\n",
       "4  2022-2023        Detroit Pistons                  65"
      ]
     },
     "execution_count": 39,
     "metadata": {},
     "output_type": "execute_result"
    }
   ],
   "source": [
    "rep_q5_2 = reponses.nombre_victoires_ou_defaites_equipe_les_N_dernieres_saisons(debut_periode=2018,\n",
    "                                                                     fin_periode=2023,\n",
    "                                                                     season_type=\"Regular Season\",\n",
    "                                                                     defaite=True)\n",
    "\n",
    "rep_q5_2"
   ]
  },
  {
   "cell_type": "code",
   "execution_count": 40,
   "id": "b9d5c387",
   "metadata": {},
   "outputs": [
    {
     "data": {
      "text/plain": [
       "True"
      ]
     },
     "execution_count": 40,
     "metadata": {},
     "output_type": "execute_result"
    }
   ],
   "source": [
    "# exporter cette table ?\n",
    "exportfiles.export_to_csv_format(\n",
    "    rep_q5_2,\n",
    "    f'{tables_dir}/RQ_repQ5_defaite.csv'\n",
    ")"
   ]
  },
  {
   "cell_type": "markdown",
   "id": "b670a9c5",
   "metadata": {},
   "source": [
    "#### 9. Les champions NBA au cours des 8 dernières saisons\n",
    "\n",
    "Nous avions, grâce à une autre méthode de classe, réaliser ce traitement. Cette méthode offre la possibilité à l'utilisateur d'obtenir le vainceur du titre NBA lors des différrentes saisons d'une période qu'il précisera en passant à la méthode l'année de début (`debut_periode`) et l'année de fin de la période (`fin_periode`). "
   ]
  },
  {
   "cell_type": "markdown",
   "id": "8a28bd4b",
   "metadata": {},
   "source": [
    "> Le vaiceur de la saison 2022-2023"
   ]
  },
  {
   "cell_type": "code",
   "execution_count": 41,
   "id": "accc324a",
   "metadata": {},
   "outputs": [
    {
     "data": {
      "text/html": [
       "<div>\n",
       "<style scoped>\n",
       "    .dataframe tbody tr th:only-of-type {\n",
       "        vertical-align: middle;\n",
       "    }\n",
       "\n",
       "    .dataframe tbody tr th {\n",
       "        vertical-align: top;\n",
       "    }\n",
       "\n",
       "    .dataframe thead th {\n",
       "        text-align: right;\n",
       "    }\n",
       "</style>\n",
       "<table border=\"1\" class=\"dataframe\">\n",
       "  <thead>\n",
       "    <tr style=\"text-align: right;\">\n",
       "      <th></th>\n",
       "      <th>Saison</th>\n",
       "      <th>Equipes</th>\n",
       "    </tr>\n",
       "  </thead>\n",
       "  <tbody>\n",
       "    <tr>\n",
       "      <th>0</th>\n",
       "      <td>2022-2023</td>\n",
       "      <td>Denver Nuggets</td>\n",
       "    </tr>\n",
       "  </tbody>\n",
       "</table>\n",
       "</div>"
      ],
      "text/plain": [
       "      Saison         Equipes\n",
       "0  2022-2023  Denver Nuggets"
      ]
     },
     "execution_count": 41,
     "metadata": {},
     "output_type": "execute_result"
    }
   ],
   "source": [
    "rep_q6_1 = reponses.vainqueur_titre_NBA_saisons(debut_periode=2022,\n",
    "                                     fin_periode=2023)\n",
    "rep_q6_1"
   ]
  },
  {
   "cell_type": "markdown",
   "id": "0b30d610",
   "metadata": {},
   "source": [
    "> Vainceur lors des 8 dernières saisons"
   ]
  },
  {
   "cell_type": "code",
   "execution_count": 42,
   "id": "3c49597a",
   "metadata": {},
   "outputs": [
    {
     "data": {
      "text/html": [
       "<div>\n",
       "<style scoped>\n",
       "    .dataframe tbody tr th:only-of-type {\n",
       "        vertical-align: middle;\n",
       "    }\n",
       "\n",
       "    .dataframe tbody tr th {\n",
       "        vertical-align: top;\n",
       "    }\n",
       "\n",
       "    .dataframe thead th {\n",
       "        text-align: right;\n",
       "    }\n",
       "</style>\n",
       "<table border=\"1\" class=\"dataframe\">\n",
       "  <thead>\n",
       "    <tr style=\"text-align: right;\">\n",
       "      <th></th>\n",
       "      <th>Saison</th>\n",
       "      <th>Equipes</th>\n",
       "    </tr>\n",
       "  </thead>\n",
       "  <tbody>\n",
       "    <tr>\n",
       "      <th>0</th>\n",
       "      <td>1961-1962</td>\n",
       "      <td>Boston Celtics</td>\n",
       "    </tr>\n",
       "    <tr>\n",
       "      <th>1</th>\n",
       "      <td>1962-1963</td>\n",
       "      <td>Boston Celtics</td>\n",
       "    </tr>\n",
       "    <tr>\n",
       "      <th>2</th>\n",
       "      <td>1963-1964</td>\n",
       "      <td>Boston Celtics</td>\n",
       "    </tr>\n",
       "    <tr>\n",
       "      <th>3</th>\n",
       "      <td>1964-1965</td>\n",
       "      <td>Boston Celtics</td>\n",
       "    </tr>\n",
       "    <tr>\n",
       "      <th>4</th>\n",
       "      <td>1965-1966</td>\n",
       "      <td>Boston Celtics</td>\n",
       "    </tr>\n",
       "    <tr>\n",
       "      <th>5</th>\n",
       "      <td>1966-1967</td>\n",
       "      <td>Philadelphia 76ers</td>\n",
       "    </tr>\n",
       "    <tr>\n",
       "      <th>6</th>\n",
       "      <td>1967-1968</td>\n",
       "      <td>Boston Celtics</td>\n",
       "    </tr>\n",
       "    <tr>\n",
       "      <th>7</th>\n",
       "      <td>1968-1969</td>\n",
       "      <td>Boston Celtics</td>\n",
       "    </tr>\n",
       "    <tr>\n",
       "      <th>8</th>\n",
       "      <td>1969-1970</td>\n",
       "      <td>New York Knicks</td>\n",
       "    </tr>\n",
       "    <tr>\n",
       "      <th>9</th>\n",
       "      <td>1970-1971</td>\n",
       "      <td>Milwaukee Bucks</td>\n",
       "    </tr>\n",
       "    <tr>\n",
       "      <th>10</th>\n",
       "      <td>1971-1972</td>\n",
       "      <td>Los Angeles Lakers</td>\n",
       "    </tr>\n",
       "    <tr>\n",
       "      <th>11</th>\n",
       "      <td>1972-1973</td>\n",
       "      <td>New York Knicks</td>\n",
       "    </tr>\n",
       "    <tr>\n",
       "      <th>12</th>\n",
       "      <td>1973-1974</td>\n",
       "      <td>Boston Celtics</td>\n",
       "    </tr>\n",
       "    <tr>\n",
       "      <th>13</th>\n",
       "      <td>1974-1975</td>\n",
       "      <td>Golden State Warriors</td>\n",
       "    </tr>\n",
       "    <tr>\n",
       "      <th>14</th>\n",
       "      <td>1975-1976</td>\n",
       "      <td>Boston Celtics</td>\n",
       "    </tr>\n",
       "    <tr>\n",
       "      <th>15</th>\n",
       "      <td>1976-1977</td>\n",
       "      <td>Portland Trail Blazers</td>\n",
       "    </tr>\n",
       "    <tr>\n",
       "      <th>16</th>\n",
       "      <td>1977-1978</td>\n",
       "      <td>Washington Wizards</td>\n",
       "    </tr>\n",
       "    <tr>\n",
       "      <th>17</th>\n",
       "      <td>1978-1979</td>\n",
       "      <td>Oklahoma City Thunder</td>\n",
       "    </tr>\n",
       "    <tr>\n",
       "      <th>18</th>\n",
       "      <td>1979-1980</td>\n",
       "      <td>Los Angeles Lakers</td>\n",
       "    </tr>\n",
       "    <tr>\n",
       "      <th>19</th>\n",
       "      <td>1979-1980</td>\n",
       "      <td>Philadelphia 76ers</td>\n",
       "    </tr>\n",
       "  </tbody>\n",
       "</table>\n",
       "</div>"
      ],
      "text/plain": [
       "       Saison                 Equipes\n",
       "0   1961-1962          Boston Celtics\n",
       "1   1962-1963          Boston Celtics\n",
       "2   1963-1964          Boston Celtics\n",
       "3   1964-1965          Boston Celtics\n",
       "4   1965-1966          Boston Celtics\n",
       "5   1966-1967      Philadelphia 76ers\n",
       "6   1967-1968          Boston Celtics\n",
       "7   1968-1969          Boston Celtics\n",
       "8   1969-1970         New York Knicks\n",
       "9   1970-1971         Milwaukee Bucks\n",
       "10  1971-1972      Los Angeles Lakers\n",
       "11  1972-1973         New York Knicks\n",
       "12  1973-1974          Boston Celtics\n",
       "13  1974-1975   Golden State Warriors\n",
       "14  1975-1976          Boston Celtics\n",
       "15  1976-1977  Portland Trail Blazers\n",
       "16  1977-1978      Washington Wizards\n",
       "17  1978-1979   Oklahoma City Thunder\n",
       "18  1979-1980      Los Angeles Lakers\n",
       "19  1979-1980      Philadelphia 76ers"
      ]
     },
     "execution_count": 42,
     "metadata": {},
     "output_type": "execute_result"
    }
   ],
   "source": [
    "rep_q6_2= reponses.vainqueur_titre_NBA_saisons(debut_periode=1961, fin_periode=1980)\n",
    "rep_q6_2"
   ]
  },
  {
   "cell_type": "code",
   "execution_count": 43,
   "id": "7f041223",
   "metadata": {},
   "outputs": [
    {
     "data": {
      "text/plain": [
       "True"
      ]
     },
     "execution_count": 43,
     "metadata": {},
     "output_type": "execute_result"
    }
   ],
   "source": [
    "# exporter cette table ?\n",
    "exportfiles.export_to_csv_format(\n",
    "    rep_q6_2,\n",
    "    f'{tables_dir}/RQ_repQ6_vainqueur.csv'\n",
    ")"
   ]
  },
  {
   "cell_type": "markdown",
   "id": "9cf536dd",
   "metadata": {},
   "source": [
    "#### 10. Les équipes ayant remporté le titre NBA deux années consécutives\n",
    "\n",
    "On c'est aussi intéresser aux équipes étant parvenu à maintenir leur titre de champion un certains nombre fois. Ainsi, notre méthode de classe nous permet d'avoir cette information. On peut aussi définir une période d'étude et définir le nombre d'années consécutives qu'une équipe parvienne à m'intenir son titre de champion NBA."
   ]
  },
  {
   "cell_type": "code",
   "execution_count": 44,
   "id": "bc55569a",
   "metadata": {},
   "outputs": [
    {
     "data": {
      "text/plain": [
       "['Los Angeles Lakers',\n",
       " 'Philadelphia 76ers',\n",
       " 'Boston Celtics',\n",
       " 'Detroit Pistons',\n",
       " 'Chicago Bulls',\n",
       " 'Houston Rockets',\n",
       " 'Miami Heat',\n",
       " 'Golden State Warriors']"
      ]
     },
     "execution_count": 44,
     "metadata": {},
     "output_type": "execute_result"
    }
   ],
   "source": [
    "reponses.equipe_qui_remporte_N_fois_daffile_le_titre(N = 2, debut_periode=1946, fin_periode=2023)"
   ]
  },
  {
   "cell_type": "markdown",
   "id": "e63a0627",
   "metadata": {},
   "source": [
    "> Boston Celtics est la seul équipe de l'histoire à avoir réaliser un exploit de 8 titres consécutifs."
   ]
  },
  {
   "cell_type": "code",
   "execution_count": 45,
   "id": "70f0a03c",
   "metadata": {},
   "outputs": [
    {
     "data": {
      "text/plain": [
       "['Los Angeles Lakers',\n",
       " 'Philadelphia 76ers',\n",
       " 'Boston Celtics',\n",
       " 'Detroit Pistons',\n",
       " 'Chicago Bulls',\n",
       " 'Houston Rockets',\n",
       " 'Miami Heat',\n",
       " 'Golden State Warriors']"
      ]
     },
     "execution_count": 45,
     "metadata": {},
     "output_type": "execute_result"
    }
   ],
   "source": [
    "reponses.equipe_qui_remporte_N_fois_daffile_le_titre(N = 2, debut_periode=1946, fin_periode=2023)"
   ]
  }
 ],
 "metadata": {
  "kernelspec": {
   "display_name": "Python 3",
   "language": "python",
   "name": "python3"
  },
  "language_info": {
   "codemirror_mode": {
    "name": "ipython",
    "version": 3
   },
   "file_extension": ".py",
   "mimetype": "text/x-python",
   "name": "python",
   "nbconvert_exporter": "python",
   "pygments_lexer": "ipython3",
   "version": "3.10.7"
  }
 },
 "nbformat": 4,
 "nbformat_minor": 5
}
